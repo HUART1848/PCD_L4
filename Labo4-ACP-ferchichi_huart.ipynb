{
 "cells": [
  {
   "cell_type": "markdown",
   "id": "f886e056",
   "metadata": {},
   "source": [
    "# Cours PCD – Labo 4 : ACP sur des images\n",
    " "
   ]
  },
  {
   "cell_type": "code",
   "execution_count": 2,
   "id": "f32bc9a2",
   "metadata": {},
   "outputs": [],
   "source": [
    "%matplotlib inline"
   ]
  },
  {
   "cell_type": "code",
   "execution_count": 6,
   "id": "67b253f5",
   "metadata": {},
   "outputs": [
    {
     "ename": "NameError",
     "evalue": "name 'sklearn' is not defined",
     "output_type": "error",
     "traceback": [
      "\u001b[1;31m---------------------------------------------------------------------------\u001b[0m",
      "\u001b[1;31mNameError\u001b[0m                                 Traceback (most recent call last)",
      "\u001b[1;32m~\\AppData\\Local\\Temp/ipykernel_856/620120082.py\u001b[0m in \u001b[0;36m<module>\u001b[1;34m\u001b[0m\n\u001b[0;32m      1\u001b[0m \u001b[1;32mfrom\u001b[0m \u001b[0msklearn\u001b[0m \u001b[1;32mimport\u001b[0m \u001b[0mdatasets\u001b[0m\u001b[1;33m\u001b[0m\u001b[1;33m\u001b[0m\u001b[0m\n\u001b[1;32m----> 2\u001b[1;33m \u001b[0msklearn\u001b[0m\u001b[1;33m.\u001b[0m\u001b[0mdatasets\u001b[0m\u001b[1;33m.\u001b[0m\u001b[0mfetch_olivetti_faces\u001b[0m\u001b[1;33m\u001b[0m\u001b[1;33m\u001b[0m\u001b[0m\n\u001b[0m\u001b[0;32m      3\u001b[0m \u001b[0mfaces\u001b[0m\u001b[1;33m.\u001b[0m\u001b[0mdata\u001b[0m\u001b[1;33m.\u001b[0m\u001b[0mshape\u001b[0m\u001b[1;33m\u001b[0m\u001b[1;33m\u001b[0m\u001b[0m\n",
      "\u001b[1;31mNameError\u001b[0m: name 'sklearn' is not defined"
     ]
    }
   ],
   "source": [
    "from sklearn import datasets\n",
    "sklearn.datasets.fetch_olivetti_faces\n"
   ]
  },
  {
   "cell_type": "markdown",
   "id": "84dfdcaa",
   "metadata": {},
   "source": [
    "## 1) description du jeu de données « Olivetti Faces »"
   ]
  },
  {
   "cell_type": "markdown",
   "id": "e481c93a",
   "metadata": {},
   "source": [
    "a) La structure de données retournée par datasets.fetch_olivetti_faces() contient 400 échantillons d’images avec 4096 pixels  (dimensions) ."
   ]
  },
  {
   "cell_type": "markdown",
   "id": "203d6f7e",
   "metadata": {},
   "source": [
    "b) il y'a 40 personnes et 10 images par personne"
   ]
  },
  {
   "cell_type": "markdown",
   "id": "7cb88186",
   "metadata": {},
   "source": [
    "c) et d) L'image est quantifiée à 256 niveaux de gris et stockée sous forme d'entiers 8 bits non signés ; le chargeur les convertira en valeurs à virgule flottante sur l'intervalle [0, 1], qui sont plus faciles à utiliser pour de nombreux algorithmes.\n",
    "\n",
    "La « cible » de cette base de données est un nombre entier de 0 à 39 indiquant l'identité de la personne photographiée ; \n",
    "\n",
    "L'ensemble de données original se composait de 92 x 112, tandis que la version disponible ici se compose d'images 64x64."
   ]
  },
  {
   "cell_type": "code",
   "execution_count": null,
   "id": "b6fdb506",
   "metadata": {},
   "outputs": [],
   "source": []
  }
 ],
 "metadata": {
  "kernelspec": {
   "display_name": "Python 3 (ipykernel)",
   "language": "python",
   "name": "python3"
  },
  "language_info": {
   "codemirror_mode": {
    "name": "ipython",
    "version": 3
   },
   "file_extension": ".py",
   "mimetype": "text/x-python",
   "name": "python",
   "nbconvert_exporter": "python",
   "pygments_lexer": "ipython3",
   "version": "3.9.7"
  }
 },
 "nbformat": 4,
 "nbformat_minor": 5
}
