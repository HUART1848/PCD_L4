{
 "cells": [
  {
   "cell_type": "markdown",
   "id": "f886e056",
   "metadata": {},
   "source": [
    "# Cours PCD – Labo 4 : ACP sur des images\n"
   ]
  },
  {
   "cell_type": "code",
   "execution_count": 1,
   "id": "a9cc0020",
   "metadata": {
    "jupyter": {
     "outputs_hidden": false
    }
   },
   "outputs": [],
   "source": [
    "import numpy as np\n",
    "import pandas as pd\n",
    "import matplotlib.pyplot as plt\n",
    "\n",
    "from sklearn import datasets"
   ]
  },
  {
   "cell_type": "markdown",
   "id": "ee6aecd8",
   "metadata": {},
   "source": [
    "## 1) Description du jeu de données « Olivetti Faces »"
   ]
  },
  {
   "cell_type": "markdown",
   "id": "7219a9d6",
   "metadata": {},
   "source": [
    "Chargement du jeu de données et affichage de sa description intégrée:"
   ]
  },
  {
   "cell_type": "code",
   "execution_count": 2,
   "id": "3d9fae2a",
   "metadata": {
    "jupyter": {
     "outputs_hidden": false
    }
   },
   "outputs": [
    {
     "name": "stdout",
     "output_type": "stream",
     "text": [
      ".. _olivetti_faces_dataset:\n",
      "\n",
      "The Olivetti faces dataset\n",
      "--------------------------\n",
      "\n",
      "`This dataset contains a set of face images`_ taken between April 1992 and \n",
      "April 1994 at AT&T Laboratories Cambridge. The\n",
      ":func:`sklearn.datasets.fetch_olivetti_faces` function is the data\n",
      "fetching / caching function that downloads the data\n",
      "archive from AT&T.\n",
      "\n",
      ".. _This dataset contains a set of face images: https://cam-orl.co.uk/facedatabase.html\n",
      "\n",
      "As described on the original website:\n",
      "\n",
      "    There are ten different images of each of 40 distinct subjects. For some\n",
      "    subjects, the images were taken at different times, varying the lighting,\n",
      "    facial expressions (open / closed eyes, smiling / not smiling) and facial\n",
      "    details (glasses / no glasses). All the images were taken against a dark\n",
      "    homogeneous background with the subjects in an upright, frontal position \n",
      "    (with tolerance for some side movement).\n",
      "\n",
      "**Data Set Characteristics:**\n",
      "\n",
      "    =================   =====================\n",
      "    Classes                                40\n",
      "    Samples total                         400\n",
      "    Dimensionality                       4096\n",
      "    Features            real, between 0 and 1\n",
      "    =================   =====================\n",
      "\n",
      "The image is quantized to 256 grey levels and stored as unsigned 8-bit \n",
      "integers; the loader will convert these to floating point values on the \n",
      "interval [0, 1], which are easier to work with for many algorithms.\n",
      "\n",
      "The \"target\" for this database is an integer from 0 to 39 indicating the\n",
      "identity of the person pictured; however, with only 10 examples per class, this\n",
      "relatively small dataset is more interesting from an unsupervised or\n",
      "semi-supervised perspective.\n",
      "\n",
      "The original dataset consisted of 92 x 112, while the version available here\n",
      "consists of 64x64 images.\n",
      "\n",
      "When using these images, please give credit to AT&T Laboratories Cambridge.\n",
      "\n"
     ]
    }
   ],
   "source": [
    "olivetti = datasets.fetch_olivetti_faces()\n",
    "print(olivetti[\"DESCR\"])"
   ]
  },
  {
   "cell_type": "code",
   "execution_count": 3,
   "id": "818ae48a",
   "metadata": {
    "jupyter": {
     "outputs_hidden": false
    }
   },
   "outputs": [
    {
     "name": "stdout",
     "output_type": "stream",
     "text": [
      "(400, 4096)\n",
      "(400, 64, 64)\n",
      "(400,)\n"
     ]
    }
   ],
   "source": [
    "print(np.shape(olivetti[\"data\"]))\n",
    "print(np.shape(olivetti[\"images\"]))\n",
    "print(np.shape(olivetti[\"target\"]))"
   ]
  },
  {
   "cell_type": "markdown",
   "id": "25af4290",
   "metadata": {},
   "source": [
    "On apprend que le jeu de données de 400 images contient 3 parties:\n",
    "\n",
    "* `data` qui contient les données des images (valeurs des pixels en N&B de 0 à 1) avec 4096 dimensions (pixels) pour chaque image.\n",
    "* `images` qui contient les données des images sous forme de matrices 64x64.\n",
    "* `target` qui contient les 40 classes (personnes) du jeu de données, ce qui correspond à 10 par classe."
   ]
  },
  {
   "cell_type": "markdown",
   "id": "0691730c",
   "metadata": {},
   "source": [
    "### b) Nombre de personnes représentées"
   ]
  },
  {
   "cell_type": "markdown",
   "id": "7f946695-f825-465a-981b-90636f265386",
   "metadata": {
    "jupyter": {
     "outputs_hidden": false
    }
   },
   "source": [
    "Il y a 40 personnes représentées avec 10 photos par personne."
   ]
  },
  {
   "cell_type": "markdown",
   "id": "2f53d3a3-7076-4649-adcc-85192acf0f27",
   "metadata": {},
   "source": [
    "### c) Information sur les images"
   ]
  },
  {
   "cell_type": "markdown",
   "id": "58eed62b-f69c-44f9-86d9-bd0255ac8839",
   "metadata": {},
   "source": [
    "Les images ont une taille de 64 par 64, soit 4096 pixels.\n",
    "\n",
    "Les images sont encodées en noirs et blancs, avec 256 niveaux de gris (8 bits). Ces valeurs sont actuellement chargées en tant que _float_ compris dans [0, 1], au lieu d'un nombre entier compris dans [0, 255]."
   ]
  },
  {
   "cell_type": "code",
   "execution_count": 4,
   "id": "10bdabca-a6aa-4e11-8ee8-d591dc1ea038",
   "metadata": {
    "tags": []
   },
   "outputs": [
    {
     "data": {
      "text/plain": [
       "400"
      ]
     },
     "execution_count": 4,
     "metadata": {},
     "output_type": "execute_result"
    }
   ],
   "source": [
    "len(np.unique(olivetti[\"data\"], axis=0))"
   ]
  },
  {
   "cell_type": "markdown",
   "id": "522b0957-3dea-46ee-8a8a-3b12e336440f",
   "metadata": {},
   "source": [
    "On constate qu'il n'y a pas d'images dupliquées."
   ]
  },
  {
   "cell_type": "markdown",
   "id": "6702691d-2502-4ce9-a7fe-91d4a50d64c1",
   "metadata": {},
   "source": [
    "### d) Affichage d'un exemple d'image"
   ]
  },
  {
   "cell_type": "code",
   "execution_count": 5,
   "id": "c65cf061-89ea-4ba3-b09d-2b5df1b9492c",
   "metadata": {
    "tags": []
   },
   "outputs": [],
   "source": [
    "def img_plot(img_data):\n",
    "    fig=plt.figure()\n",
    "    fig.add_subplot(xticks=[], yticks=[])\n",
    "    ax = plt.imshow(img_data,cmap=plt.cm.bone)"
   ]
  },
  {
   "cell_type": "code",
   "execution_count": 6,
   "id": "efd72292-2d5b-4aec-ada3-bf0d0c1f8d48",
   "metadata": {
    "tags": []
   },
   "outputs": [
    {
     "data": {
      "image/png": "[encoded data removed]",
      "text/plain": [
       "<Figure size 640x480 with 1 Axes>"
      ]
     },
     "metadata": {},
     "output_type": "display_data"
    }
   ],
   "source": [
    "img_plot(olivetti[\"images\"][0])"
   ]
  },
  {
   "cell_type": "markdown",
   "id": "c0cbafb3-73e9-4b91-b2e3-59f2f95fe332",
   "metadata": {},
   "source": [
    "## 2) Préparation des jeux de données"
   ]
  },
  {
   "cell_type": "code",
   "execution_count": 61,
   "id": "cbfe14a1-c9a1-413a-b59c-bb4607c3b397",
   "metadata": {
    "tags": []
   },
   "outputs": [],
   "source": [
    "def x_y_split(df, lab_col):\n",
    "    return df.drop(lab_col, axis=1), df[lab_col] "
   ]
  },
  {
   "cell_type": "code",
   "execution_count": 94,
   "id": "a0edb702-af9a-4d67-8580-c5c038933d89",
   "metadata": {
    "tags": []
   },
   "outputs": [],
   "source": [
    "def olivetti_train_test_split(data, target, n_classes=10, train_ratio=0.8):\n",
    "    df = pd.DataFrame(data)\n",
    "    df[\"target\"] = target\n",
    "    \n",
    "    train = df[df.index % n_classes < int(train_ratio * 10)]\n",
    "    test = df.drop(train.index)\n",
    "    \n",
    "    train = train.reset_index(drop=True)\n",
    "    test = test.reset_index(drop=True)\n",
    "    \n",
    "    x_train, y_train = x_y_split(train, \"target\")\n",
    "    x_test, y_test = x_y_split(test, \"target\")\n",
    "    return (x_train, y_train), (x_test, y_test)"
   ]
  },
  {
   "cell_type": "code",
   "execution_count": 95,
   "id": "8aa0b52a-353a-4800-a0a7-7652e32c39ef",
   "metadata": {
    "tags": []
   },
   "outputs": [],
   "source": [
    "(x_train, y_train), (x_test, y_test) = olivetti_train_test_split(olivetti[\"data\"], olivetti[\"target\"])"
   ]
  },
  {
   "cell_type": "code",
   "execution_count": 98,
   "id": "20118cb4-6f26-43fa-97cc-de76651ff7e4",
   "metadata": {
    "tags": []
   },
   "outputs": [
    {
     "name": "stdout",
     "output_type": "stream",
     "text": [
      "x_train:\t(320, 4096)\n",
      "y_train:\t(320,)\n",
      "x_test :\t(80, 4096)\n",
      "y_test :\t(80,)\n"
     ]
    }
   ],
   "source": [
    "print(f\"x_train:\\t{np.shape(x_train)}\")\n",
    "print(f\"y_train:\\t{np.shape(y_train)}\")\n",
    "print(f\"x_test :\\t{np.shape(x_test)}\")\n",
    "print(f\"y_test :\\t{np.shape(y_test)}\")"
   ]
  },
  {
   "cell_type": "markdown",
   "id": "fd073429-491c-4019-a660-921c404b02da",
   "metadata": {},
   "source": [
    "On constate que les dimensions correspondent au ratio de 80% pour l'entraînement et 20% pour le test."
   ]
  }
 ],
 "metadata": {
  "kernelspec": {
   "display_name": "Python 3 (ipykernel)",
   "language": "python",
   "name": "python3"
  },
  "language_info": {
   "codemirror_mode": {
    "name": "ipython",
    "version": 3
   },
   "file_extension": ".py",
   "mimetype": "text/x-python",
   "name": "python",
   "nbconvert_exporter": "python",
   "pygments_lexer": "ipython3",
   "version": "3.9.7"
  }
 },
 "nbformat": 4,
 "nbformat_minor": 5
}
