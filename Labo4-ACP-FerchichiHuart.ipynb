{
 "cells": [
  {
   "cell_type": "markdown",
   "id": "4762d2d0-e632-4255-9637-7b02f1a2d2f6",
   "metadata": {},
   "source": [
    "# Cours PCD – Labo 4 : ACP sur des images"
   ]
  },
  {
   "cell_type": "code",
   "execution_count": null,
   "id": "960cc9cd-17df-426b-a95f-4f6adaf196f3",
   "metadata": {},
   "outputs": [],
   "source": []
  }
 ],
 "metadata": {
  "kernelspec": {
   "display_name": "Python 3 (ipykernel)",
   "language": "python",
   "name": "python3"
  },
  "language_info": {
   "codemirror_mode": {
    "name": "ipython",
    "version": 3
   },
   "file_extension": ".py",
   "mimetype": "text/x-python",
   "name": "python",
   "nbconvert_exporter": "python",
   "pygments_lexer": "ipython3",
   "version": "3.10.10"
  }
 },
 "nbformat": 4,
 "nbformat_minor": 5
}
