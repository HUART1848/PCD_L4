{
 "cells": [
  {
   "cell_type": "markdown",
   "id": "f886e056",
   "metadata": {},
   "source": [
    "# Cours PCD – Labo 4 : ACP sur des images\n",
    " "
   ]
  },
  {
   "cell_type": "markdown",
   "id": "ee6aecd8",
   "metadata": {},
   "source": [
    "## 1) description du jeu de données « Olivetti Faces »"
   ]
  },
  {
   "cell_type": "markdown",
   "id": "9576123e",
   "metadata": {},
   "source": [
    "a) La structure de données retournée par datasets.fetch_olivetti_faces() contient 400 échantillons d’images avec 4096 pixels  (dimensions) ."
   ]
  },
  {
   "cell_type": "markdown",
   "id": "0691730c",
   "metadata": {},
   "source": [
    "b) il y'a 40 personnes et 10 images par personne"
   ]
  },
  {
   "cell_type": "markdown",
   "id": "21339203",
   "metadata": {},
   "source": [
    "c) et d) L'image est quantifiée à 256 niveaux de gris et stockée sous forme d'entiers 8 bits non signés ; le chargeur les convertira en valeurs à virgule flottante sur l'intervalle [0, 1], qui sont plus faciles à utiliser pour de nombreux algorithmes.\n",
    "\n",
    "La « cible » de cette base de données est un nombre entier de 0 à 39 indiquant l'identité de la personne photographiée ; \n",
    "\n",
    "L'ensemble de données original se composait de 92 x 112, tandis que la version disponible ici se compose d'images 64x64."
   ]
  },
  {
   "cell_type": "code",
   "execution_count": null,
   "id": "1c0f6706",
   "metadata": {},
   "outputs": [],
   "source": []
  }
 ],
 "metadata": {
  "kernelspec": {
   "display_name": "Python 3 (ipykernel)",
   "language": "python",
   "name": "python3"
  },
  "language_info": {
   "codemirror_mode": {
    "name": "ipython",
    "version": 3
   },
   "file_extension": ".py",
   "mimetype": "text/x-python",
   "name": "python",
   "nbconvert_exporter": "python",
   "pygments_lexer": "ipython3",
   "version": "3.9.7"
  }
 },
 "nbformat": 4,
 "nbformat_minor": 5
}
